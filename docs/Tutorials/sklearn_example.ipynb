{
 "cells": [
  {
   "cell_type": "markdown",
   "metadata": {},
   "source": [
    "# Machine Learning using scikit-learn\n",
    "\n",
    "### Heitor Murilo Gomes, PhD\n",
    "\n",
    "### Senior Research Fellow, University of Waikato\n",
    "\n",
    "[heitorgomes.com](http://heitorgomes.com/)"
   ]
  },
  {
   "cell_type": "markdown",
   "metadata": {},
   "source": [
    "<br><br><br><br><br><br><br><br><br><br><br><br><br><br><br><br><br><br><br><br><br><br><br><br>"
   ]
  },
  {
   "cell_type": "markdown",
   "metadata": {},
   "source": [
    "## Machine Lerning -> Classification -> scikit-learn library -> Code -> Profit\n",
    "\n",
    "<br><br><br><br><br><br><br><br><br><br><br><br><br><br><br><br><br><br><br>\n",
    "\n",
    "### scikit-learn website\n",
    "https://scikit-learn.org/stable/index.html\n",
    "\n",
    "### Choosing the right estimator\n",
    "https://scikit-learn.org/stable/tutorial/machine_learning_map/index.html\n",
    "\n",
    "### Examples\n",
    "https://scikit-learn.org/stable/auto_examples/index.html\n",
    "\n",
    "\n",
    "## Basic introduction to Machine Learning\n",
    "\n",
    "* ```Machine learning tasks```\n",
    " * **supervised learning**: we have **labeled data**, the learning process has supervision, i.e. the algorithm is trained on data which we know the correct answer. \n",
    " * **unsupervised learning**: we have only **unlabeled data**, the goal is to find groups or patterns\n",
    " * and... let's not talk about the others today. \n",
    "\n",
    "* ```Naming conventions```\n",
    " * Objects, Patterns, **Instances**, Examples, ... this is our **$X$**\n",
    " * Classes or Class labels, ... this is our **$y$**\n",
    " \n",
    "* ```Relationship between label availability and learning task```\n",
    " * **Unlabeled data**: we only have $X$\n",
    " * **Labeled data**: we have $(X,y)$\n",
    " \n",
    " \n",
    "* ```Classification algorithms```: \n",
    " * Often called **Classifiers**\n",
    " * Examples: Logistic Regression, Decision Trees, Random Forest, ...\n",
    " \n",
    " \n",
    " \n",
    "* ```Models```\n",
    " * A ```model``` is how we usually refer to a ```trained``` learning algorithm\n",
    " \n",
    " \n",
    "* Well, well, well, what about ```deep learning```?\n",
    " * ```Deep learning``` is a broad term to refer to ```neural networks``` that are ```deep``` (or big or large). If you wish, you can think of deep learning as a subfield of machine learning. **NOT THE OTHER WAY AROUND**.\n",
    " \n",
    "\n",
    "\n",
    "### Feature extraction/transformation\n",
    "* Our abstractions of data are poor representations of their natural counterparts. \n",
    " * A photo of a car miss a lot of the data around the car itself\n",
    " * A single health record is missing all the history about a patient\n",
    " * etc.\n",
    "\n",
    "### Every learning algorithm is biased!\n",
    "* To be able to learn anything, the algorithm has to make some assumptions. \n",
    "* These assumptions can be an excellent match for a given problem or they can be catastrophically wrong. \n",
    "\n",
    "### (Realistic) evaluation is key\n",
    "* Usually, we don't train learning algorithms for fun, so we need to check if they work\n",
    "* We want to know how well they perform on a specific scenario (i.e., a realistic scenario)\n",
    " * Usually, data that was not available before, for example, I train with all my data until 2019 and then I want to use it on data from 2020. \n",
    " * We want the trained model to give us some useful predictions or insights, which we will them use to guide our decisions or make recommendations or confirm an hypothesis, and so on. "
   ]
  },
  {
   "cell_type": "markdown",
   "metadata": {},
   "source": [
    "<br><br><br><br><br><br><br><br><br><br><br><br><br>"
   ]
  },
  {
   "cell_type": "markdown",
   "metadata": {},
   "source": [
    "## 0. Importing libraries\n",
    "The important step of including someone else's code to solve our problem"
   ]
  },
  {
   "cell_type": "code",
   "execution_count": 2,
   "metadata": {},
   "outputs": [],
   "source": [
    "from sklearn import datasets # The source of our data. \n",
    "from sklearn.tree import DecisionTreeClassifier # Our classifier.\n",
    "\n",
    "# To estimate the predictive performance. \n",
    "from sklearn.metrics import accuracy_score\n",
    "from sklearn.metrics import plot_confusion_matrix\n",
    "from sklearn.model_selection import train_test_split\n",
    "\n",
    "# Visualization\n",
    "from sklearn import tree\n",
    "\n",
    "# Other\n",
    "import numpy as np"
   ]
  },
  {
   "cell_type": "markdown",
   "metadata": {},
   "source": [
    "<br><br><br><br><br><br><br><br><br><br>"
   ]
  },
  {
   "cell_type": "markdown",
   "metadata": {},
   "source": [
    "## 1. Loading the iris dataset\n",
    "\n",
    "The ```iris dataset``` is available from scikit-learn, thus we don't need to download and load it from a local file. \n",
    "\n",
    "* Optionally, we could read it from a CSV file using [pandas.read_csv()](https://pandas.pydata.org/pandas-docs/stable/reference/api/pandas.read_csv.html)\n",
    "\n",
    "* More about [dataset.load_iris()](https://scikit-learn.org/stable/modules/generated/sklearn.datasets.load_iris.html)\n",
    "\n",
    "* There are three classes in the ```iris dataset```: \n",
    "<img src=\"versicolor_virginica_setosa.png\">"
   ]
  },
  {
   "cell_type": "code",
   "execution_count": 4,
   "metadata": {},
   "outputs": [],
   "source": [
    "## Loading the dataset\n",
    "iris = datasets.load_iris()"
   ]
  },
  {
   "cell_type": "code",
   "execution_count": 8,
   "metadata": {},
   "outputs": [
    {
     "name": "stdout",
     "output_type": "stream",
     "text": [
      ".. _iris_dataset:\n",
      "\n",
      "Iris plants dataset\n",
      "--------------------\n",
      "\n",
      "**Data Set Characteristics:**\n",
      "\n",
      "    :Number of Instances: 150 (50 in each of three classes)\n",
      "    :Number of Attributes: 4 numeric, predictive attributes and the class\n",
      "    :Attribute Information:\n",
      "        - sepal length in cm\n",
      "        - sepal width in cm\n",
      "        - petal length in cm\n",
      "        - petal width in cm\n",
      "        - class:\n",
      "                - Iris-Setosa\n",
      "                - Iris-Versicolour\n",
      "                - Iris-Virginica\n",
      "                \n",
      "    :Summary Statistics:\n",
      "\n",
      "    ============== ==== ==== ======= ===== ====================\n",
      "                    Min  Max   Mean    SD   Class Correlation\n",
      "    ============== ==== ==== ======= ===== ====================\n",
      "    sepal length:   4.3  7.9   5.84   0.83    0.7826\n",
      "    sepal width:    2.0  4.4   3.05   0.43   -0.4194\n",
      "    petal length:   1.0  6.9   3.76   1.76    0.9490  (high!)\n",
      "    petal width:    0.1  2.5   1.20   0.76    0.9565  (high!)\n",
      "    ============== ==== ==== ======= ===== ====================\n",
      "\n",
      "    :Missing Attribute Values: None\n",
      "    :Class Distribution: 33.3% for each of 3 classes.\n",
      "    :Creator: R.A. Fisher\n",
      "    :Donor: Michael Marshall (MARSHALL%PLU@io.arc.nasa.gov)\n",
      "    :Date: July, 1988\n",
      "\n",
      "The famous Iris database, first used by Sir R.A. Fisher. The dataset is taken\n",
      "from Fisher's paper. Note that it's the same as in R, but not as in the UCI\n",
      "Machine Learning Repository, which has two wrong data points.\n",
      "\n",
      "This is perhaps the best known database to be found in the\n",
      "pattern recognition literature.  Fisher's paper is a classic in the field and\n",
      "is referenced frequently to this day.  (See Duda & Hart, for example.)  The\n",
      "data set contains 3 classes of 50 instances each, where each class refers to a\n",
      "type of iris plant.  One class is linearly separable from the other 2; the\n",
      "latter are NOT linearly separable from each other.\n",
      "\n",
      ".. topic:: References\n",
      "\n",
      "   - Fisher, R.A. \"The use of multiple measurements in taxonomic problems\"\n",
      "     Annual Eugenics, 7, Part II, 179-188 (1936); also in \"Contributions to\n",
      "     Mathematical Statistics\" (John Wiley, NY, 1950).\n",
      "   - Duda, R.O., & Hart, P.E. (1973) Pattern Classification and Scene Analysis.\n",
      "     (Q327.D83) John Wiley & Sons.  ISBN 0-471-22361-1.  See page 218.\n",
      "   - Dasarathy, B.V. (1980) \"Nosing Around the Neighborhood: A New System\n",
      "     Structure and Classification Rule for Recognition in Partially Exposed\n",
      "     Environments\".  IEEE Transactions on Pattern Analysis and Machine\n",
      "     Intelligence, Vol. PAMI-2, No. 1, 67-71.\n",
      "   - Gates, G.W. (1972) \"The Reduced Nearest Neighbor Rule\".  IEEE Transactions\n",
      "     on Information Theory, May 1972, 431-433.\n",
      "   - See also: 1988 MLC Proceedings, 54-64.  Cheeseman et al\"s AUTOCLASS II\n",
      "     conceptual clustering system finds 3 classes in the data.\n",
      "   - Many, many more ...\n"
     ]
    }
   ],
   "source": [
    "# Quick look at the dataset\n",
    "# about the zip function: https://docs.python.org/3.3/library/functions.html#zip\n",
    "\n",
    "# iris.data\n",
    "# iris.target\n",
    "# list(zip(iris.data, iris.target))\n",
    "print(iris.DESCR)"
   ]
  },
  {
   "cell_type": "markdown",
   "metadata": {},
   "source": [
    "<br><br><br><br><br><br><br><br><br><br><br><br><br><br><br><br><br><br><br>"
   ]
  },
  {
   "cell_type": "markdown",
   "metadata": {},
   "source": [
    "## 2. Let's train a first model!\n",
    "\n",
    "### 2.1 Split the data into ```train``` and ```test``` datasets \n",
    "\n",
    "```train``` the model on part of the data and ```test``` it on the remaining instances. \n",
    "\n",
    "* There are many ways of doing that, for example using [model_selection.train_test_split()](https://scikit-learn.org/stable/modules/generated/sklearn.model_selection.train_test_split.html)\n"
   ]
  },
  {
   "cell_type": "code",
   "execution_count": 9,
   "metadata": {},
   "outputs": [],
   "source": [
    "# Split the data: train and test\n",
    "\n",
    "# Train data: the first 100 instances... \n",
    "X_train = iris.data[0:100]\n",
    "y_train = iris.target[0:100]\n",
    "\n",
    "# Test data: the remaining 50 instances... \n",
    "X_test = iris.data[100:150]\n",
    "y_test = iris.target[100:150]"
   ]
  },
  {
   "cell_type": "markdown",
   "metadata": {},
   "source": [
    "\n",
    "## Important\n",
    "\n",
    "### (1) There <font color='red'>shouldn't be any intersection</font> between ```train``` and ```test```! \n",
    "\n",
    "### (2) Both the ```train``` and ```test``` should be a <font color='red'>realistic representation of the learning problem</font>\n",
    "\n",
    "\n",
    "<p>We achieved (1) with the code above, but what about (2)? </p>\n",
    "\n",
    "Let's ```ignore``` this for a moment and move on... "
   ]
  },
  {
   "cell_type": "markdown",
   "metadata": {},
   "source": [
    "<br><br><br><br><br><br><br><br><br><br><br><br><br><br><br><br><br><br><br>"
   ]
  },
  {
   "cell_type": "markdown",
   "metadata": {},
   "source": [
    "## 2.2 Let's train a model\n",
    "\n",
    "* We are going to train a [DecisionTreeClassifier](https://scikit-learn.org/stable/modules/generated/sklearn.tree.DecisionTreeClassifier.html)\n",
    "* A comprehensive discussion about the differences between [hyperparameters and parameters](https://machinelearningmastery.com/difference-between-a-parameter-and-a-hyperparameter/)\n",
    "* Reference about decision trees: \n",
    " * *L. Breiman, J. Friedman, R. Olshen, and C. Stone, “Classification and Regression Trees”, Wadsworth, Belmont, CA, 1984.* \n",
    " * Optionally, there are hundreds of tutorials on the web about Decision Trees. \n",
    "\n"
   ]
  },
  {
   "cell_type": "code",
   "execution_count": 11,
   "metadata": {},
   "outputs": [
    {
     "data": {
      "image/png": "[encoded data removed]",
      "text/plain": [
       "<Figure size 432x288 with 1 Axes>"
      ]
     },
     "metadata": {
      "needs_background": "light"
     },
     "output_type": "display_data"
    }
   ],
   "source": [
    "# Create a decision tree classifier, here we specify the hyperparameters\n",
    "decisionTree = DecisionTreeClassifier()\n",
    "\n",
    "# Obtain the trained model given the decision tree classifier\n",
    "decisionTreeModel = decisionTree.fit(X=X_train, y=y_train)\n",
    "\n",
    "# To visualize our trained decision tree model\n",
    "tree.plot_tree(decisionTreeModel);"
   ]
  },
  {
   "cell_type": "markdown",
   "metadata": {},
   "source": [
    "<br><br><br><br><br><br><br><br><br><br><br><br><br><br><br><br><br><br><br>"
   ]
  },
  {
   "cell_type": "markdown",
   "metadata": {},
   "source": [
    "## 2.3 Let's evaluate our model\n",
    "\n",
    "First, we obtain the model predictions using the [```predict(X_train)```](https://scikit-learn.org/stable/modules/generated/sklearn.tree.DecisionTreeClassifier.html#sklearn.tree.DecisionTreeClassifier.predict) function\n",
    "\n",
    "It will use our trained ```decisionTreeModel``` to generate a prediction\n",
    "\n",
    "for each entry in the given dataset (i.e., ```X_train```)"
   ]
  },
  {
   "cell_type": "code",
   "execution_count": 12,
   "metadata": {},
   "outputs": [],
   "source": [
    "# Use the trained model to make some predictions on the training data X_train\n",
    "# Ops! Something is wrong here... \n",
    "y_predictions_train = decisionTreeModel.predict(X_train)"
   ]
  },
  {
   "cell_type": "code",
   "execution_count": 13,
   "metadata": {},
   "outputs": [
    {
     "data": {
      "text/plain": [
       "[(array([5.1, 3.5, 1.4, 0.2]), 0, 0),\n",
       " (array([4.9, 3. , 1.4, 0.2]), 0, 0),\n",
       " (array([4.7, 3.2, 1.3, 0.2]), 0, 0),\n",
       " (array([4.6, 3.1, 1.5, 0.2]), 0, 0),\n",
       " (array([5. , 3.6, 1.4, 0.2]), 0, 0),\n",
       " (array([5.4, 3.9, 1.7, 0.4]), 0, 0),\n",
       " (array([4.6, 3.4, 1.4, 0.3]), 0, 0),\n",
       " (array([5. , 3.4, 1.5, 0.2]), 0, 0),\n",
       " (array([4.4, 2.9, 1.4, 0.2]), 0, 0),\n",
       " (array([4.9, 3.1, 1.5, 0.1]), 0, 0),\n",
       " (array([5.4, 3.7, 1.5, 0.2]), 0, 0),\n",
       " (array([4.8, 3.4, 1.6, 0.2]), 0, 0),\n",
       " (array([4.8, 3. , 1.4, 0.1]), 0, 0),\n",
       " (array([4.3, 3. , 1.1, 0.1]), 0, 0),\n",
       " (array([5.8, 4. , 1.2, 0.2]), 0, 0),\n",
       " (array([5.7, 4.4, 1.5, 0.4]), 0, 0),\n",
       " (array([5.4, 3.9, 1.3, 0.4]), 0, 0),\n",
       " (array([5.1, 3.5, 1.4, 0.3]), 0, 0),\n",
       " (array([5.7, 3.8, 1.7, 0.3]), 0, 0),\n",
       " (array([5.1, 3.8, 1.5, 0.3]), 0, 0),\n",
       " (array([5.4, 3.4, 1.7, 0.2]), 0, 0),\n",
       " (array([5.1, 3.7, 1.5, 0.4]), 0, 0),\n",
       " (array([4.6, 3.6, 1. , 0.2]), 0, 0),\n",
       " (array([5.1, 3.3, 1.7, 0.5]), 0, 0),\n",
       " (array([4.8, 3.4, 1.9, 0.2]), 0, 0),\n",
       " (array([5. , 3. , 1.6, 0.2]), 0, 0),\n",
       " (array([5. , 3.4, 1.6, 0.4]), 0, 0),\n",
       " (array([5.2, 3.5, 1.5, 0.2]), 0, 0),\n",
       " (array([5.2, 3.4, 1.4, 0.2]), 0, 0),\n",
       " (array([4.7, 3.2, 1.6, 0.2]), 0, 0),\n",
       " (array([4.8, 3.1, 1.6, 0.2]), 0, 0),\n",
       " (array([5.4, 3.4, 1.5, 0.4]), 0, 0),\n",
       " (array([5.2, 4.1, 1.5, 0.1]), 0, 0),\n",
       " (array([5.5, 4.2, 1.4, 0.2]), 0, 0),\n",
       " (array([4.9, 3.1, 1.5, 0.2]), 0, 0),\n",
       " (array([5. , 3.2, 1.2, 0.2]), 0, 0),\n",
       " (array([5.5, 3.5, 1.3, 0.2]), 0, 0),\n",
       " (array([4.9, 3.6, 1.4, 0.1]), 0, 0),\n",
       " (array([4.4, 3. , 1.3, 0.2]), 0, 0),\n",
       " (array([5.1, 3.4, 1.5, 0.2]), 0, 0),\n",
       " (array([5. , 3.5, 1.3, 0.3]), 0, 0),\n",
       " (array([4.5, 2.3, 1.3, 0.3]), 0, 0),\n",
       " (array([4.4, 3.2, 1.3, 0.2]), 0, 0),\n",
       " (array([5. , 3.5, 1.6, 0.6]), 0, 0),\n",
       " (array([5.1, 3.8, 1.9, 0.4]), 0, 0),\n",
       " (array([4.8, 3. , 1.4, 0.3]), 0, 0),\n",
       " (array([5.1, 3.8, 1.6, 0.2]), 0, 0),\n",
       " (array([4.6, 3.2, 1.4, 0.2]), 0, 0),\n",
       " (array([5.3, 3.7, 1.5, 0.2]), 0, 0),\n",
       " (array([5. , 3.3, 1.4, 0.2]), 0, 0),\n",
       " (array([7. , 3.2, 4.7, 1.4]), 1, 1),\n",
       " (array([6.4, 3.2, 4.5, 1.5]), 1, 1),\n",
       " (array([6.9, 3.1, 4.9, 1.5]), 1, 1),\n",
       " (array([5.5, 2.3, 4. , 1.3]), 1, 1),\n",
       " (array([6.5, 2.8, 4.6, 1.5]), 1, 1),\n",
       " (array([5.7, 2.8, 4.5, 1.3]), 1, 1),\n",
       " (array([6.3, 3.3, 4.7, 1.6]), 1, 1),\n",
       " (array([4.9, 2.4, 3.3, 1. ]), 1, 1),\n",
       " (array([6.6, 2.9, 4.6, 1.3]), 1, 1),\n",
       " (array([5.2, 2.7, 3.9, 1.4]), 1, 1),\n",
       " (array([5. , 2. , 3.5, 1. ]), 1, 1),\n",
       " (array([5.9, 3. , 4.2, 1.5]), 1, 1),\n",
       " (array([6. , 2.2, 4. , 1. ]), 1, 1),\n",
       " (array([6.1, 2.9, 4.7, 1.4]), 1, 1),\n",
       " (array([5.6, 2.9, 3.6, 1.3]), 1, 1),\n",
       " (array([6.7, 3.1, 4.4, 1.4]), 1, 1),\n",
       " (array([5.6, 3. , 4.5, 1.5]), 1, 1),\n",
       " (array([5.8, 2.7, 4.1, 1. ]), 1, 1),\n",
       " (array([6.2, 2.2, 4.5, 1.5]), 1, 1),\n",
       " (array([5.6, 2.5, 3.9, 1.1]), 1, 1),\n",
       " (array([5.9, 3.2, 4.8, 1.8]), 1, 1),\n",
       " (array([6.1, 2.8, 4. , 1.3]), 1, 1),\n",
       " (array([6.3, 2.5, 4.9, 1.5]), 1, 1),\n",
       " (array([6.1, 2.8, 4.7, 1.2]), 1, 1),\n",
       " (array([6.4, 2.9, 4.3, 1.3]), 1, 1),\n",
       " (array([6.6, 3. , 4.4, 1.4]), 1, 1),\n",
       " (array([6.8, 2.8, 4.8, 1.4]), 1, 1),\n",
       " (array([6.7, 3. , 5. , 1.7]), 1, 1),\n",
       " (array([6. , 2.9, 4.5, 1.5]), 1, 1),\n",
       " (array([5.7, 2.6, 3.5, 1. ]), 1, 1),\n",
       " (array([5.5, 2.4, 3.8, 1.1]), 1, 1),\n",
       " (array([5.5, 2.4, 3.7, 1. ]), 1, 1),\n",
       " (array([5.8, 2.7, 3.9, 1.2]), 1, 1),\n",
       " (array([6. , 2.7, 5.1, 1.6]), 1, 1),\n",
       " (array([5.4, 3. , 4.5, 1.5]), 1, 1),\n",
       " (array([6. , 3.4, 4.5, 1.6]), 1, 1),\n",
       " (array([6.7, 3.1, 4.7, 1.5]), 1, 1),\n",
       " (array([6.3, 2.3, 4.4, 1.3]), 1, 1),\n",
       " (array([5.6, 3. , 4.1, 1.3]), 1, 1),\n",
       " (array([5.5, 2.5, 4. , 1.3]), 1, 1),\n",
       " (array([5.5, 2.6, 4.4, 1.2]), 1, 1),\n",
       " (array([6.1, 3. , 4.6, 1.4]), 1, 1),\n",
       " (array([5.8, 2.6, 4. , 1.2]), 1, 1),\n",
       " (array([5. , 2.3, 3.3, 1. ]), 1, 1),\n",
       " (array([5.6, 2.7, 4.2, 1.3]), 1, 1),\n",
       " (array([5.7, 3. , 4.2, 1.2]), 1, 1),\n",
       " (array([5.7, 2.9, 4.2, 1.3]), 1, 1),\n",
       " (array([6.2, 2.9, 4.3, 1.3]), 1, 1),\n",
       " (array([5.1, 2.5, 3. , 1.1]), 1, 1),\n",
       " (array([5.7, 2.8, 4.1, 1.3]), 1, 1)]"
      ]
     },
     "execution_count": 13,
     "metadata": {},
     "output_type": "execute_result"
    }
   ],
   "source": [
    "list(zip(X_train, y_predictions_train, y_train))"
   ]
  },
  {
   "cell_type": "markdown",
   "metadata": {},
   "source": [
    "<br><br><br><br><br><br><br><br><br><br><br><br><br><br><br><br><br><br><br>"
   ]
  },
  {
   "cell_type": "markdown",
   "metadata": {},
   "source": [
    "### 2.3.1 What about a single scalar to assess the predictive performance?\n",
    "\n",
    "We will use the ```accuracy_score```, which is the most intuitive metric. \n",
    "\n",
    "* Accuracy:  \n",
    "\n",
    "<font color='green'>sum of all correct of predictions</font> **divided** by all the predictions made (<font color='green'>correct</font> and <font color='red'>incorrect</font>)\n",
    "\n",
    "* The accuracy ranges from **0.0** (all predictions are incorrect) to **1.0** (all predictions are correct)\n",
    "* More about the [accuracy_score()](https://scikit-learn.org/stable/modules/generated/sklearn.metrics.accuracy_score.html?highlight=accuracy#sklearn.metrics.accuracy_score)"
   ]
  },
  {
   "cell_type": "code",
   "execution_count": 14,
   "metadata": {},
   "outputs": [
    {
     "data": {
      "text/plain": [
       "1.0"
      ]
     },
     "execution_count": 14,
     "metadata": {},
     "output_type": "execute_result"
    }
   ],
   "source": [
    "# Obtain the accuracy on the training data\n",
    "accuracy_score(y_train, y_predictions_train)"
   ]
  },
  {
   "cell_type": "markdown",
   "metadata": {},
   "source": [
    "<br><br><br><br><br><br><br><br><br><br><br><br><br><br><br><br><br><br><br>\n"
   ]
  },
  {
   "cell_type": "markdown",
   "metadata": {},
   "source": [
    "### 2.4 Analyzing the results\n",
    "\n",
    "Before we celebrate... Let's get back to this:\n",
    " \n",
    "### \"(2) Both the ```train``` and ```test``` should be a <font color='red'>realistic representation of the learning problem\"\n",
    "    \n",
    "## <font color='red'>What went wrong?!</font>\n",
    "<!-- <img src='White_square_with_question_mark.png' style=\"float:left\"> -->"
   ]
  },
  {
   "cell_type": "markdown",
   "metadata": {},
   "source": [
    "# Answer: \n",
    "\n",
    "# First of all, we must <font color='red'>not train and test on the same dataset</font>\n",
    "This approach will mislead us into building models that are unable to generalize to unseen data. \n",
    "\n",
    "## Let's try to fix this by testing on the test dataset... "
   ]
  },
  {
   "cell_type": "code",
   "execution_count": 16,
   "metadata": {},
   "outputs": [
    {
     "data": {
      "text/plain": [
       "0.0"
      ]
     },
     "execution_count": 16,
     "metadata": {},
     "output_type": "execute_result"
    }
   ],
   "source": [
    "# Obtain the predictions for X_test\n",
    "y_predictions_test = decisionTreeModel.predict(X_test)\n",
    "\n",
    "# Obtain the accuracy by comparing y_test with y_predictions_test\n",
    "accuracy_score(y_test, y_predictions_test)"
   ]
  },
  {
   "cell_type": "markdown",
   "metadata": {},
   "source": [
    "<br><br><br><br><br><br><br><br><br><br><br><br><br><br><br><br><br><br><br>"
   ]
  },
  {
   "cell_type": "markdown",
   "metadata": {},
   "source": [
    "# Oh that is <font color='red'>great</font>! We went from 1.0 accuracy to 0.0\n",
    "\n",
    "## We miss every possible prediction on the test set!\n",
    "\n",
    "\n",
    "## <font color='red'>What happened?</font>"
   ]
  },
  {
   "cell_type": "code",
   "execution_count": 18,
   "metadata": {},
   "outputs": [],
   "source": [
    "## let's look at the predictions vs the actual values...\n",
    "# list(zip(X_test, y_predictions_test, y_test))"
   ]
  },
  {
   "cell_type": "markdown",
   "metadata": {},
   "source": [
    "<br><br><br><br><br><br><br><br><br><br><br><br><br><br><br><br><br><br><br>"
   ]
  },
  {
   "cell_type": "markdown",
   "metadata": {},
   "source": [
    "## 2.5 There is a problem with how we split the dataset... \n",
    "\n",
    "### Both the train and the test datasets do not represent well the learning problem... <font color='red'>why?</font>\n",
    "\n",
    "### There is <font color='red'>one class missing</font> from the <font color='red'>train</font> dataset and <font color='red'>two classes are missing</font> from the <font color='red'>test</font> dataset!\n",
    "\n"
   ]
  },
  {
   "cell_type": "code",
   "execution_count": 19,
   "metadata": {},
   "outputs": [
    {
     "data": {
      "text/plain": [
       "array([2, 2, 2, 2, 2, 2, 2, 2, 2, 2, 2, 2, 2, 2, 2, 2, 2, 2, 2, 2, 2, 2,\n",
       "       2, 2, 2, 2, 2, 2, 2, 2, 2, 2, 2, 2, 2, 2, 2, 2, 2, 2, 2, 2, 2, 2,\n",
       "       2, 2, 2, 2, 2, 2])"
      ]
     },
     "execution_count": 19,
     "metadata": {},
     "output_type": "execute_result"
    }
   ],
   "source": [
    "## Let's look at the labes in y_test\n",
    "y_test"
   ]
  },
  {
   "cell_type": "code",
   "execution_count": 20,
   "metadata": {},
   "outputs": [
    {
     "data": {
      "text/plain": [
       "array([0, 0, 0, 0, 0, 0, 0, 0, 0, 0, 0, 0, 0, 0, 0, 0, 0, 0, 0, 0, 0, 0,\n",
       "       0, 0, 0, 0, 0, 0, 0, 0, 0, 0, 0, 0, 0, 0, 0, 0, 0, 0, 0, 0, 0, 0,\n",
       "       0, 0, 0, 0, 0, 0, 1, 1, 1, 1, 1, 1, 1, 1, 1, 1, 1, 1, 1, 1, 1, 1,\n",
       "       1, 1, 1, 1, 1, 1, 1, 1, 1, 1, 1, 1, 1, 1, 1, 1, 1, 1, 1, 1, 1, 1,\n",
       "       1, 1, 1, 1, 1, 1, 1, 1, 1, 1, 1, 1])"
      ]
     },
     "execution_count": 20,
     "metadata": {},
     "output_type": "execute_result"
    }
   ],
   "source": [
    "## and y_train\n",
    "y_train"
   ]
  },
  {
   "cell_type": "markdown",
   "metadata": {},
   "source": [
    "<br><br><br><br><br><br><br><br><br><br><br><br><br><br><br><br><br><br><br>"
   ]
  },
  {
   "cell_type": "markdown",
   "metadata": {},
   "source": [
    "### 2.6 Summarizing what we know so far\n",
    "\n",
    "* <font color='red'>The learning algorithm can only learn from the data we present to it</font>. If we don't show it class 2, then it will assume class 2 doesn't exists! \n",
    "\n",
    "## Machine learning is not magic :-(\n",
    "\n",
    "* We don't want a model that is only capable of perfectly reproducing the train dataset. \n",
    "\n",
    "* We want to observe how well the model perform on previously unseen data, i.e. it was not used for training it. \n",
    "\n",
    "* We want ```generalization```! We want to avoid ```overfitting``` and ```underfitting```!\n",
    " * [How to Identify Overfitting Machine Learning Models in Scikit-Learn](https://machinelearningmastery.com/overfitting-machine-learning-models/). \n",
    " * [Overfitting and Underfitting With Machine Learning Algorithms](https://machinelearningmastery.com/overfitting-and-underfitting-with-machine-learning-algorithms/)\n",
    "\n"
   ]
  },
  {
   "cell_type": "markdown",
   "metadata": {},
   "source": [
    "<br><br><br><br><br><br><br><br><br><br><br><br><br><br><br><br><br><br><br>"
   ]
  },
  {
   "cell_type": "markdown",
   "metadata": {},
   "source": [
    "## 3. Let's build another model\n",
    "\n",
    "### How do we split the data?\n",
    "* Shuffle the dataset before splitting it into train and test. One possibility is [sklearn.utils.shuffle](https://scikit-learn.org/stable/modules/generated/sklearn.utils.shuffle.html)... \n",
    "* or we could simply use [model_selection.train_test_split()](https://scikit-learn.org/stable/modules/generated/sklearn.model_selection.train_test_split.html), which is much easier!"
   ]
  },
  {
   "cell_type": "code",
   "execution_count": 27,
   "metadata": {},
   "outputs": [],
   "source": [
    "# train_test_split has multiple returns... \n",
    "X_train, X_test, y_train, y_test = train_test_split(iris.data, \n",
    "                                                    iris.target, \n",
    "                                                    test_size=0.30, \n",
    "                                                    random_state=42, stratify=iris.target)"
   ]
  },
  {
   "cell_type": "code",
   "execution_count": 28,
   "metadata": {},
   "outputs": [
    {
     "data": {
      "text/plain": [
       "{0: 35, 1: 35, 2: 35}"
      ]
     },
     "execution_count": 28,
     "metadata": {},
     "output_type": "execute_result"
    }
   ],
   "source": [
    "## Using numpy to count the number of occurrences of each class in y_train\n",
    "unique, counts = np.unique(y_train, return_counts=True)\n",
    "dict(zip(unique, counts))"
   ]
  },
  {
   "cell_type": "code",
   "execution_count": 29,
   "metadata": {},
   "outputs": [
    {
     "data": {
      "text/plain": [
       "{0: 15, 1: 15, 2: 15}"
      ]
     },
     "execution_count": 29,
     "metadata": {},
     "output_type": "execute_result"
    }
   ],
   "source": [
    "# Same... but using y_test\n",
    "unique, counts = np.unique(y_test, return_counts=True)\n",
    "dict(zip(unique, counts))"
   ]
  },
  {
   "cell_type": "code",
   "execution_count": 31,
   "metadata": {},
   "outputs": [
    {
     "data": {
      "image/png": "[encoded data removed]",
      "text/plain": [
       "<Figure size 432x288 with 1 Axes>"
      ]
     },
     "metadata": {
      "needs_background": "light"
     },
     "output_type": "display_data"
    }
   ],
   "source": [
    "# Let's train the model again... \n",
    "decisionTree = DecisionTreeClassifier(random_state=42)\n",
    "\n",
    "decisionTreeModelCorrect = decisionTree.fit(X_train, y_train)\n",
    "tree.plot_tree(decisionTreeModelCorrect);"
   ]
  },
  {
   "cell_type": "markdown",
   "metadata": {},
   "source": [
    "### 3.1 Analyzing the results\n",
    "* This time we also include a [confusion_matrix](https://scikit-learn.org/stable/auto_examples/model_selection/plot_confusion_matrix.html).\n",
    "See [plot_confusion_matrix()](https://scikit-learn.org/stable/modules/generated/sklearn.metrics.plot_confusion_matrix.html) as well. "
   ]
  },
  {
   "cell_type": "code",
   "execution_count": 32,
   "metadata": {},
   "outputs": [
    {
     "data": {
      "text/plain": [
       "0.9333333333333333"
      ]
     },
     "execution_count": 32,
     "metadata": {},
     "output_type": "execute_result"
    }
   ],
   "source": [
    "y_predictions = decisionTreeModelCorrect.predict(X_test)\n",
    "accuracy_score(y_test, y_predictions)"
   ]
  },
  {
   "cell_type": "code",
   "execution_count": 33,
   "metadata": {},
   "outputs": [
    {
     "data": {
      "image/png": "[encoded data removed]",
      "text/plain": [
       "<Figure size 432x288 with 2 Axes>"
      ]
     },
     "metadata": {
      "needs_background": "light"
     },
     "output_type": "display_data"
    }
   ],
   "source": [
    "plot_confusion_matrix(decisionTreeModelCorrect, X_test, y_test);"
   ]
  },
  {
   "cell_type": "markdown",
   "metadata": {},
   "source": [
    "### 4. Where to go from here?\n",
    "* Check [scikit-learn websites](https://scikit-learn.org/stable/) for tutorials\n",
    "* [UCI website](https://archive.ics.uci.edu/ml/index.php) contains several datasets for study\n",
    "* [Kaggle](https://www.kaggle.com) is a good resource for datasets and machine learning competitions\n",
    "\n",
    "Thank you!\n",
    "\n",
    "Heitor Murilo Gomes\n",
    "\n",
    "Contact: [heitorgomes.com](http://heitorgomes.com/)"
   ]
  },
  {
   "cell_type": "code",
   "execution_count": null,
   "metadata": {},
   "outputs": [],
   "source": []
  }
 ],
 "metadata": {
  "kernelspec": {
   "display_name": "Python 3",
   "language": "python",
   "name": "python3"
  },
  "language_info": {
   "codemirror_mode": {
    "name": "ipython",
    "version": 3
   },
   "file_extension": ".py",
   "mimetype": "text/x-python",
   "name": "python",
   "nbconvert_exporter": "python",
   "pygments_lexer": "ipython3",
   "version": "3.8.5"
  }
 },
 "nbformat": 4,
 "nbformat_minor": 2
}

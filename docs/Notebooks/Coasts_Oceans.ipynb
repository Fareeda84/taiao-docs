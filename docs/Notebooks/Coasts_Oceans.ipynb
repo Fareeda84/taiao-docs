{
 "cells": [
  {
   "cell_type": "markdown",
   "metadata": {},
   "source": [
    "## Python libraries"
   ]
  },
  {
   "cell_type": "code",
   "execution_count": null,
   "metadata": {
    "colab": {
     "base_uri": "https://localhost:8080/"
    },
    "id": "DoAvH07-BqFP",
    "outputId": "cfa911f6-3808-48ef-c1cf-69bc62d470a0"
   },
   "outputs": [],
   "source": [
    "# We install requests which is a python library for executing HTTP requests. We also install json which will be used to process the retrieved records.\n",
    "import sys\n",
    "!{sys.executable} -m pip install requests json"
   ]
  },
  {
   "cell_type": "markdown",
   "metadata": {},
   "source": [
    "## Query Server"
   ]
  },
  {
   "cell_type": "code",
   "execution_count": null,
   "metadata": {},
   "outputs": [],
   "source": [
    "# Configure the remote server URL\n",
    "url = \"https://wave.storm-surge.cloud.edu.au/wave_mysql/\""
   ]
  },
  {
   "cell_type": "code",
   "execution_count": null,
   "metadata": {},
   "outputs": [],
   "source": [
    "# Query Server & extract data\n",
    "wave_data = requests.request(\"GET\", url)\n",
    "data_points = json.loads(wave_data.text)"
   ]
  },
  {
   "cell_type": "code",
   "execution_count": null,
   "metadata": {},
   "outputs": [],
   "source": [
    "# Check number of rows retrieved\n",
    "print(\"Number of rows retrieved: \", str(len(data_points['results'])))"
   ]
  },
  {
   "cell_type": "markdown",
   "metadata": {},
   "source": [
    "## Process raw data"
   ]
  },
  {
   "cell_type": "code",
   "execution_count": null,
   "metadata": {},
   "outputs": [],
   "source": [
    "# Iterate over first 5 rows in resultset\n",
    "for row in data_points['results'][0:5]:\n",
    "    # Entire record\n",
    "    print(json.dumps(row, indent=4, sort_keys=True))\n",
    "    # Access Individual elements\n",
    "    print(row['island'], row['datetime'], row['m.y'])\n",
    "    "
   ]
  }
 ],
 "metadata": {
  "colab": {
   "name": "Untitled0.ipynb",
   "provenance": []
  },
  "kernelspec": {
   "display_name": "Python 3",
   "language": "python",
   "name": "python3"
  },
  "language_info": {
   "codemirror_mode": {
    "name": "ipython",
    "version": 3
   },
   "file_extension": ".py",
   "mimetype": "text/x-python",
   "name": "python",
   "nbconvert_exporter": "python",
   "pygments_lexer": "ipython3",
   "version": "3.7.5"
  }
 },
 "nbformat": 4,
 "nbformat_minor": 1
}

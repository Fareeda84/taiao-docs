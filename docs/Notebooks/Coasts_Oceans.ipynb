{
 "cells": [
  {
   "cell_type": "markdown",
   "metadata": {},
   "source": [
    "## Wave Projection Data - New Zealand"
   ]
  },
  {
   "cell_type": "markdown",
   "metadata": {},
   "source": [
    "Here we provide four time-slices of high resolution (9 km) wave climate data for the New Zealand waters. We developed a set of historical and projected (1993–2006, 2026–2046, 2080–2100) wave climatologies from 3 global climate models (ACCESS1-0, CNRM-CM5 and MIROC5) and two representative concentration pathways (RCP 4.5, RCP 8.5).\n",
    "\n",
    "This data, and associated datsets are described in detail at the [Coasts & Ocean Collective](https://coastalhub.science/data)"
   ]
  },
  {
   "cell_type": "markdown",
   "metadata": {},
   "source": [
    "## Python libraries"
   ]
  },
  {
   "cell_type": "markdown",
   "metadata": {},
   "source": [
    "In order to establish a connection with the remote server and process the data retrieved, Python libraries will need to be installed.\n",
    "\n",
    "For this example Notebook, the networking library - 'requests' will be used."
   ]
  },
  {
   "cell_type": "code",
   "execution_count": 9,
   "metadata": {
    "colab": {
     "base_uri": "https://localhost:8080/"
    },
    "id": "DoAvH07-BqFP",
    "outputId": "cfa911f6-3808-48ef-c1cf-69bc62d470a0",
    "scrolled": true
   },
   "outputs": [
    {
     "name": "stdout",
     "output_type": "stream",
     "text": [
      "Requirement already satisfied: requests in c:\\users\\user\\appdata\\local\\programs\\python\\python37\\lib\\site-packages (2.25.1)\n",
      "Requirement already satisfied: certifi>=2017.4.17 in c:\\users\\user\\appdata\\local\\programs\\python\\python37\\lib\\site-packages (from requests) (2020.12.5)\n",
      "Requirement already satisfied: chardet<5,>=3.0.2 in c:\\users\\user\\appdata\\local\\programs\\python\\python37\\lib\\site-packages (from requests) (4.0.0)\n",
      "Requirement already satisfied: urllib3<1.27,>=1.21.1 in c:\\users\\user\\appdata\\local\\programs\\python\\python37\\lib\\site-packages (from requests) (1.26.3)\n",
      "Requirement already satisfied: idna<3,>=2.5 in c:\\users\\user\\appdata\\local\\programs\\python\\python37\\lib\\site-packages (from requests) (2.10)\n"
     ]
    },
    {
     "name": "stderr",
     "output_type": "stream",
     "text": [
      "WARNING: You are using pip version 19.2.3, however version 21.0.1 is available.\n",
      "You should consider upgrading via the 'python -m pip install --upgrade pip' command.\n"
     ]
    }
   ],
   "source": [
    "# We install requests which is a python library for executing HTTP requests.\n",
    "import sys\n",
    "!{sys.executable} -m pip install requests"
   ]
  },
  {
   "cell_type": "markdown",
   "metadata": {},
   "source": [
    "## Query Server"
   ]
  },
  {
   "cell_type": "markdown",
   "metadata": {},
   "source": [
    "Before a Python library can be utilised, it must be imported first. We are making specific reference to functionality contained within the 'requests' and 'json' libraries, so they must be imported before use."
   ]
  },
  {
   "cell_type": "code",
   "execution_count": 29,
   "metadata": {},
   "outputs": [],
   "source": [
    "import requests\n",
    "import json"
   ]
  },
  {
   "cell_type": "markdown",
   "metadata": {},
   "source": [
    "Querying a Server is a multi-step process with the first, and most critical being the identification of the Server. We create a variable to hold the fully qualified name of the Server, including communications protocol - \"https\", domain name - \"wave.storm-surge.cloud.edu.au\" and identification of service you wish to access - \"wave_mysql\""
   ]
  },
  {
   "cell_type": "code",
   "execution_count": 30,
   "metadata": {},
   "outputs": [],
   "source": [
    "# Specify the remote server URL\n",
    "url = \"https://wave.storm-surge.cloud.edu.au/wave_mysql/\""
   ]
  },
  {
   "cell_type": "markdown",
   "metadata": {},
   "source": [
    "Quering the Server invloves sending a command, 'GET' in our example, together with the identification of the Server as described in the previous step. 'GET' signals that we wish to retrieve (return) records from the Server. The records returned from the Server must be stored in memory so we create a variable \"wave_data\" to hold this information."
   ]
  },
  {
   "cell_type": "code",
   "execution_count": 31,
   "metadata": {},
   "outputs": [],
   "source": [
    "# Query Server\n",
    "wave_data = requests.request(\"GET\", url)"
   ]
  },
  {
   "cell_type": "markdown",
   "metadata": {},
   "source": [
    "## Extract data"
   ]
  },
  {
   "cell_type": "markdown",
   "metadata": {},
   "source": [
    "Once the data is stored in a variable, it must be converted into a format suitable for subsequent manipulation. The data will be extracted and stored in the JSON format. As before, we create a variable to hold the converted data."
   ]
  },
  {
   "cell_type": "code",
   "execution_count": 32,
   "metadata": {},
   "outputs": [],
   "source": [
    "# Extract data in JSON ('Javascript Object Notation') format\n",
    "data_points = json.loads(wave_data.text)"
   ]
  },
  {
   "cell_type": "markdown",
   "metadata": {},
   "source": [
    "Checking the number of rows of data retrieved is a quick way to verify that the process worked as we expected. Using the 'print' command, and the 'len()' - length function, count the number of rows retrieved and print the result."
   ]
  },
  {
   "cell_type": "code",
   "execution_count": 33,
   "metadata": {},
   "outputs": [
    {
     "name": "stdout",
     "output_type": "stream",
     "text": [
      "Number of rows retrieved:  14834\n"
     ]
    }
   ],
   "source": [
    "# Check number of rows retrieved\n",
    "print(\"Number of rows retrieved: \", str(len(data_points['results'])))"
   ]
  },
  {
   "cell_type": "markdown",
   "metadata": {},
   "source": [
    "## Process raw data"
   ]
  },
  {
   "cell_type": "markdown",
   "metadata": {},
   "source": [
    "Now that we have the data from the Server, and have it in a format (JSON) which is easier to manipulate, displaying the first record is a good way to satisfy ourselves that the data appears to be correct. The following command uses the 'json.dumps', and 'print' functions to display this record. Please note - '0' is the first element within a 'list'."
   ]
  },
  {
   "cell_type": "code",
   "execution_count": 36,
   "metadata": {},
   "outputs": [
    {
     "name": "stdout",
     "output_type": "stream",
     "text": [
      "{\n",
      "    \"x\": 4,\n",
      "    \"y\": 6,\n",
      "    \"lat\": -42.618687,\n",
      "    \"lng\": 170.94698,\n",
      "    \"island\": \"NI\",\n",
      "    \"m.x\": 4,\n",
      "    \"m.y\": 6,\n",
      "    \"t\": 0,\n",
      "    \"Hsig\": 1.5660860538482666,\n",
      "    \"datetime\": \"1993-01-01 00:00:00\"\n",
      "}\n"
     ]
    }
   ],
   "source": [
    "print(json.dumps(data_points['results'][0], indent=4))"
   ]
  },
  {
   "cell_type": "markdown",
   "metadata": {},
   "source": [
    "In a preceeding step you verified the number of rows retrieved, then displayed a single record. If you want to display more rows, we can access each row individually, and print the contents of that row. This task is achieved using a structure which can visit all rows, or a subset of the rows retrieved. In the following example we will print the contents of the first three rows retrieved from the Server."
   ]
  },
  {
   "cell_type": "code",
   "execution_count": 37,
   "metadata": {},
   "outputs": [
    {
     "name": "stdout",
     "output_type": "stream",
     "text": [
      "{\n",
      "    \"x\": 4,\n",
      "    \"y\": 6,\n",
      "    \"lat\": -42.618687,\n",
      "    \"lng\": 170.94698,\n",
      "    \"island\": \"NI\",\n",
      "    \"m.x\": 4,\n",
      "    \"m.y\": 6,\n",
      "    \"t\": 0,\n",
      "    \"Hsig\": 1.5660860538482666,\n",
      "    \"datetime\": \"1993-01-01 00:00:00\"\n",
      "}\n",
      "{\n",
      "    \"x\": 4,\n",
      "    \"y\": 34,\n",
      "    \"lat\": -42.618687,\n",
      "    \"lng\": 173.56314,\n",
      "    \"island\": \"NI\",\n",
      "    \"m.x\": 4,\n",
      "    \"m.y\": 34,\n",
      "    \"t\": 0,\n",
      "    \"Hsig\": 1.782180666923523,\n",
      "    \"datetime\": \"1993-01-01 00:00:00\"\n",
      "}\n"
     ]
    }
   ],
   "source": [
    "# Iterate over first two rows\n",
    "for row in data_points['results'][0:2]:\n",
    "    print(json.dumps(row, indent=4))\n",
    "    "
   ]
  },
  {
   "cell_type": "markdown",
   "metadata": {},
   "source": [
    "Once you have identified a 'row' of interest, individual elements within the row can be extracted. This task is achieved through referencing the row, and desired 'named element' within the row."
   ]
  },
  {
   "cell_type": "code",
   "execution_count": 38,
   "metadata": {},
   "outputs": [
    {
     "name": "stdout",
     "output_type": "stream",
     "text": [
      "NI 1993-01-01 00:00:00 34\n"
     ]
    }
   ],
   "source": [
    "# Access Individual elements\n",
    "print(row['island'], row['datetime'], row['m.y'])"
   ]
  }
 ],
 "metadata": {
  "colab": {
   "name": "Untitled0.ipynb",
   "provenance": []
  },
  "kernelspec": {
   "display_name": "Python 3",
   "language": "python",
   "name": "python3"
  },
  "language_info": {
   "codemirror_mode": {
    "name": "ipython",
    "version": 3
   },
   "file_extension": ".py",
   "mimetype": "text/x-python",
   "name": "python",
   "nbconvert_exporter": "python",
   "pygments_lexer": "ipython3",
   "version": "3.7.5"
  }
 },
 "nbformat": 4,
 "nbformat_minor": 1
}
